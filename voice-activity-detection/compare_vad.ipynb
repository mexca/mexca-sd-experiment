{
 "cells": [
  {
   "cell_type": "markdown",
   "metadata": {},
   "source": [
    "# Compare Voice Activity Detection Pipelines\n",
    "\n",
    "In this notebook, different Voice Activity Detection (VAD) pipelines will be compared in terms of performance. The following pipelines will be compared:\n",
    "\n",
    "- openSMILE voice probability from `pitch.acf` with 0.5 onset probability and 0.25 offset probability\n",
    "- openSMILE voice probability with postprocessing from [SpeechBrain](https://speechbrain.readthedocs.io/en/latest/API/speechbrain.pretrained.interfaces.html#speechbrain.pretrained.interfaces.VAD)'s VAD pipeline as in `VAD.merge_close_segments()` and `VAD.remove_short_segments()` with default arguments\n",
    "- [SpeechBrain](https://speechbrain.readthedocs.io/en/latest/API/speechbrain.pretrained.interfaces.html#speechbrain.pretrained.interfaces.VAD) pretrained VAD pipeline as in `VAD.get_speech_segments()` with default arguments\n",
    "- pyannotes pretrained VAD pipeline `pyannote/voice-activity-detection` with default arguments\n",
    "\n",
    "The pipelines will be compared on three metrics (detection error rate, detection cost funciton, and detection F1) as described [here](https://pyannote.github.io/pyannote-metrics/reference.html#detection)."
   ]
  },
  {
   "cell_type": "code",
   "execution_count": 2,
   "metadata": {},
   "outputs": [],
   "source": [
    "\"\"\" Compare VAD performance of different pipelines \"\"\"\n",
    "from rttm import RttmSeq, RttmObj, read_rttm\n",
    "from pyannote.core import Timeline, Segment\n",
    "from pyannote.metrics.detection import DetectionErrorRate, DetectionCostFunction, DetectionPrecisionRecallFMeasure\n",
    "import seaborn as sns\n",
    "import pandas as pd\n",
    "import numpy as np\n",
    "import os\n",
    "\n",
    "RESULTS = [\"opensmile\", \"opensmile_speechbrain\", \"speechbrain\", \"pyannote\"]\n"
   ]
  },
  {
   "cell_type": "code",
   "execution_count": 3,
   "metadata": {},
   "outputs": [],
   "source": [
    "def convert_rttm_timeline(rttm_seq):\n",
    "    timeline = Timeline()\n",
    "    for seg in rttm_seq.sequence:\n",
    "        timeline.add(Segment(seg.tbeg, seg.tbeg+seg.tdur))\n",
    "\n",
    "    return timeline.to_annotation()\n"
   ]
  },
  {
   "cell_type": "code",
   "execution_count": 4,
   "metadata": {},
   "outputs": [],
   "source": [
    "timelines = {}\n",
    "\n",
    "for res_dir in RESULTS + [\"reference\"]:\n",
    "    out = []\n",
    "    with os.scandir(os.path.join(\"results\", res_dir)) as filenames:\n",
    "        for filename in filenames:\n",
    "            rttm_seq = read_rttm(filename.path)\n",
    "            out.append(convert_rttm_timeline(rttm_seq))\n",
    "\n",
    "    timelines[res_dir] = out\n"
   ]
  },
  {
   "cell_type": "code",
   "execution_count": 5,
   "metadata": {},
   "outputs": [],
   "source": [
    "detection_error = DetectionErrorRate()\n",
    "detection_cost = DetectionCostFunction()\n",
    "detection_f1 = DetectionPrecisionRecallFMeasure()\n"
   ]
  },
  {
   "cell_type": "code",
   "execution_count": 6,
   "metadata": {},
   "outputs": [
    {
     "name": "stderr",
     "output_type": "stream",
     "text": [
      "c:\\Users\\MalteLuken\\Repositories\\mexca-sd-experiment\\lib\\site-packages\\pyannote\\metrics\\utils.py:183: UserWarning: 'uem' was approximated by the union of 'reference' and 'hypothesis' extents.\n",
      "  warnings.warn(\n"
     ]
    }
   ],
   "source": [
    "results = {\"error\": {}, \"cost\": {}, \"f1\": {}}\n",
    "\n",
    "for res_dir in RESULTS:\n",
    "    error = []\n",
    "    cost = []\n",
    "    f1 = []\n",
    "\n",
    "    for i, hypothesis in enumerate(timelines[res_dir]):\n",
    "        reference = timelines[\"reference\"][i]\n",
    "        error.append(detection_error(reference, hypothesis))\n",
    "        cost.append(detection_cost(reference, hypothesis))\n",
    "        f1.append(detection_f1(reference, hypothesis))\n",
    "\n",
    "    results[\"error\"][res_dir] = error\n",
    "    results[\"cost\"][res_dir] = cost\n",
    "    results[\"f1\"][res_dir] = f1\n"
   ]
  },
  {
   "cell_type": "code",
   "execution_count": 7,
   "metadata": {},
   "outputs": [],
   "source": [
    "results_df = {\"metric\": [], \"method\": [], \"value\": []}\n",
    "\n",
    "method_labels = {\"opensmile\": \"os\", \"opensmile_speechbrain\": \"os+sb\",\n",
    "                 \"speechbrain\": \"sb\", \"pyannote\": \"pa\"}\n",
    "\n",
    "for metric in results.keys():\n",
    "    for method in RESULTS:\n",
    "        for val in results[metric][method]:\n",
    "            results_df[\"metric\"].append(metric)\n",
    "            results_df[\"method\"].append(method_labels[method])\n",
    "            results_df[\"value\"].append(val)\n",
    "\n",
    "results_df = pd.DataFrame(results_df)\n"
   ]
  },
  {
   "cell_type": "code",
   "execution_count": 8,
   "metadata": {},
   "outputs": [],
   "source": [
    "def select_min_max(group):\n",
    "    if pd.DataFrame(group).reset_index()[\"metric\"].apply(lambda x: x in [\"cost\", \"error\"]).all():\n",
    "        return np.min(group)\n",
    "    else:\n",
    "        return np.max(group)"
   ]
  },
  {
   "cell_type": "code",
   "execution_count": 9,
   "metadata": {},
   "outputs": [],
   "source": [
    "mean_results_df = results_df.groupby([\"metric\", \"method\"]).aggregate(np.mean)\n",
    "\n",
    "mean_best_results_dict = mean_results_df.groupby(\n",
    "    [\"metric\"]).aggregate(select_min_max).to_dict()[\"value\"]\n"
   ]
  },
  {
   "cell_type": "code",
   "execution_count": 10,
   "metadata": {},
   "outputs": [
    {
     "data": {
      "image/png": "[encoded data removed]",
      "text/plain": [
       "<Figure size 648x216 with 3 Axes>"
      ]
     },
     "metadata": {
      "needs_background": "light"
     },
     "output_type": "display_data"
    }
   ],
   "source": [
    "grid = sns.FacetGrid(data=results_df, col=\"metric\")\n",
    "\n",
    "grid.map(sns.stripplot, \"method\", \"value\", color=\"steelblue\",\n",
    "         order=method_labels.values(), alpha=0.5, jitter=0.25, zorder=1)\n",
    "grid.map(sns.pointplot, \"method\", \"value\", color=\"indianred\", join=False,\n",
    "         order=method_labels.values(), estimator=np.mean, capsize=0.1, zorder=2)\n",
    "\n",
    "grid.set_titles(col_template=\"{col_name}\")\n",
    "grid.set(ylim=(0.0, 1.0), yticks=np.linspace(0.0, 1.0, 6))\n",
    "\n",
    "best_pos = {\"error\": (2, 0.9), \"cost\": (2, 0.9), \"f1\": (2, 0.1)}\n",
    "\n",
    "for ax in grid.axes[0]:\n",
    "    metric = ax.title.get_text()\n",
    "    best = round(mean_best_results_dict[metric], 2)\n",
    "    ax.annotate(text=best, xy=best_pos[metric],\n",
    "                ha='center', va='center', color=\"indianred\")\n",
    "\n",
    "grid.savefig(\"vad_results.pdf\")\n",
    "grid.savefig(\"vad_results.png\")\n"
   ]
  },
  {
   "cell_type": "markdown",
   "metadata": {},
   "source": [
    "The comparison shows that the SpeechBrain pretrained VAD pipeline performs best in all three evaluation metrics. It has the lowest detection error rate, detection cost function, and highest detection F1 score. It also shows the lowest spread in all three metrics across evaluated samples. Thus, the SpeechBrain VAD pipeline is the best candidate for MEXCA.\n",
    "\n",
    "EDIT: The speaker diarization based on the Speechbrain VAD segments seems to not perform very well. This could be due to the number of segments (and the segment length) detected by the VAD pipeline. Thus, the number of detected speech segments will be compared across pipelines."
   ]
  },
  {
   "cell_type": "code",
   "execution_count": 42,
   "metadata": {},
   "outputs": [],
   "source": [
    "n_segments_df = {\"method\": [], \"ratio\": []}\n",
    "\n",
    "for res_dir in RESULTS:\n",
    "    for i, hypothesis in enumerate(timelines[res_dir]):\n",
    "        reference = timelines[\"reference\"][i]\n",
    "        n_segments_df[\"method\"].append(method_labels[res_dir])\n",
    "        n_segments_df[\"ratio\"].append(np.log(len(hypothesis)/len(reference)))\n",
    "\n",
    "n_segments_df = pd.DataFrame(n_segments_df)"
   ]
  },
  {
   "cell_type": "code",
   "execution_count": 46,
   "metadata": {},
   "outputs": [
    {
     "data": {
      "image/png": "[encoded data removed]",
      "text/plain": [
       "<Figure size 216x216 with 1 Axes>"
      ]
     },
     "metadata": {
      "needs_background": "light"
     },
     "output_type": "display_data"
    }
   ],
   "source": [
    "grid = sns.FacetGrid(data=n_segments_df)\n",
    "\n",
    "grid.map(sns.stripplot, \"method\", \"ratio\", color=\"steelblue\",\n",
    "         order=method_labels.values(), alpha=0.5, jitter=0.25, zorder=1)\n",
    "grid.map(sns.pointplot, \"method\", \"ratio\", color=\"indianred\", join=False,\n",
    "         order=method_labels.values(), estimator=np.mean, capsize=0.1, zorder=2)\n",
    "\n",
    "grid.set(ylabel=\"ln ratio (hyp/ref)\")\n",
    "\n",
    "grid.savefig(\"vad_n_segments_ratio.pdf\")\n",
    "grid.savefig(\"vad_n_segments_ratio.png\")"
   ]
  },
  {
   "cell_type": "markdown",
   "metadata": {},
   "source": [
    "Here, the log ratio between detected speech segments and reference speech segments is shown. The figure shows that pyannote detects the most similar amount of speech segments to the reference. Thus, it might be beneficial to choose pyannote for Mexca because the assignment to speakers can be more finegrained (and hence more accurate) compared to Speechbrain."
   ]
  }
 ],
 "metadata": {
  "interpreter": {
   "hash": "58464ff5e8fc630133ea3835adc12bfb751fb8b5645bf81b3c65085c994ac44f"
  },
  "kernelspec": {
   "display_name": "Python 3.9.7 ('mexca-sd-experiment': venv)",
   "language": "python",
   "name": "python3"
  },
  "language_info": {
   "codemirror_mode": {
    "name": "ipython",
    "version": 3
   },
   "file_extension": ".py",
   "mimetype": "text/x-python",
   "name": "python",
   "nbconvert_exporter": "python",
   "pygments_lexer": "ipython3",
   "version": "3.9.7"
  },
  "orig_nbformat": 4
 },
 "nbformat": 4,
 "nbformat_minor": 2
}
