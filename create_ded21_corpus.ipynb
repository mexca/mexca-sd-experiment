{
 "cells": [
  {
   "cell_type": "markdown",
   "metadata": {},
   "source": [
    "# Create Dutch Election Debate 21 Corpus"
   ]
  },
  {
   "cell_type": "markdown",
   "metadata": {},
   "source": [
    "This notebook creates the dataset from the Dutch Election Debate 21 (DED21) corpus (see this [blog post](https://stukroodvlees.nl/welke-lijsttrekkers-lacht-het-meest-en-hoe/) for details). The corpus consists of a single video file (with audio signal) that is 1.45 hours long. The video features six Dutch party candidates, two moderators, and speakers from the audience. The audio signal has been annotated to the extent that all speech segments of the six party candidates are labeled.\n",
    "\n",
    "To run the notebook, the folder `dutch-debate-corpus` needs to be in the same directory."
   ]
  },
  {
   "cell_type": "code",
   "execution_count": 1,
   "metadata": {},
   "outputs": [],
   "source": [
    "from copy import deepcopy\n",
    "from moviepy.editor import VideoFileClip\n",
    "from rttm import RttmObj, RttmSeq\n",
    "from scipy.io import wavfile\n",
    "import pandas as pd\n",
    "import numpy as np\n",
    "import seaborn as sns\n",
    "import os\n",
    "\n",
    "DATA_DIR = \"dutch-debate-corpus\"\n",
    "NUM_PARTS = 2\n"
   ]
  },
  {
   "cell_type": "code",
   "execution_count": 2,
   "metadata": {},
   "outputs": [],
   "source": [
    "def cut_time(time):\n",
    "    time_split = str(time).split(\":\")\n",
    "    if len(time_split) == 2 or (time_split[-1] == \"00\" and time_split[0] != \"01\"):\n",
    "        out = \"00:\" + \":\".join(time_split[:2])\n",
    "    else:\n",
    "        out = \":\".join(time_split[:3])\n",
    "    return out\n"
   ]
  },
  {
   "cell_type": "markdown",
   "metadata": {},
   "source": [
    "The annotation file is read and the start and end time stamps of the labeled speech segments are extracted."
   ]
  },
  {
   "cell_type": "code",
   "execution_count": 3,
   "metadata": {},
   "outputs": [],
   "source": [
    "speaker_turns = pd.read_csv(os.path.join(DATA_DIR, \"speaking_turns.csv\"))\n",
    "speaker_turns[\"audio_start\"] = pd.to_timedelta(\n",
    "    speaker_turns[\"audio.start\"].apply(cut_time))\n",
    "speaker_turns[\"audio_end\"] = pd.to_timedelta(\n",
    "    speaker_turns[\"audio.end\"].apply(cut_time))\n"
   ]
  },
  {
   "cell_type": "markdown",
   "metadata": {},
   "source": [
    "The extracted annotations are converted into RTTM format and saved as a reference file."
   ]
  },
  {
   "cell_type": "code",
   "execution_count": 4,
   "metadata": {},
   "outputs": [],
   "source": [
    "segments = []\n",
    "\n",
    "for row in speaker_turns.itertuples():\n",
    "    if not pd.isna(row.spkr_name) and not pd.isna(row.audio_start) and not pd.isna(row.audio_end):\n",
    "        new_segment = RttmObj(\n",
    "            type=\"SPEAKER\",\n",
    "            file=os.path.join(DATA_DIR, \"ded21_audio.wav\"),\n",
    "            chnl=1,\n",
    "            tbeg=float(row.audio_start.seconds),\n",
    "            tdur=float(row.audio_end.seconds) - float(row.audio_start.seconds),\n",
    "            ortho=None,\n",
    "            stype=None,\n",
    "            name=row.spkr_name,\n",
    "            conf=None\n",
    "        )\n",
    "        segments.append(new_segment)\n",
    "\n",
    "\n",
    "rttm_seq = RttmSeq(sequence=segments).sort()\n"
   ]
  },
  {
   "cell_type": "code",
   "execution_count": 5,
   "metadata": {},
   "outputs": [
    {
     "name": "stdout",
     "output_type": "stream",
     "text": [
      "type\tfile\tchnl\ttbeg\ttdur\tortho\tstype\tname\tconf\t\n",
      "SPEAKER\tdutch-debate-corpus\\ded21_audio.wav\t1\t343.0\t34.0\t<NA>\t<NA>\tWilders\t<NA>\t\n",
      "SPEAKER\tdutch-debate-corpus\\ded21_audio.wav\t1\t381.0\t32.0\t<NA>\t<NA>\tMarijnissen\t<NA>\t\n",
      "SPEAKER\tdutch-debate-corpus\\ded21_audio.wav\t1\t417.0\t30.0\t<NA>\t<NA>\tHoekstra\t<NA>\t\n",
      "SPEAKER\tdutch-debate-corpus\\ded21_audio.wav\t1\t450.0\t33.0\t<NA>\t<NA>\tKaag\t<NA>\t\n",
      "SPEAKER\tdutch-debate-corpus\\ded21_audio.wav\t1\t485.0\t32.0\t<NA>\t<NA>\tRutte\t<NA>\t\n",
      "SPEAKER\tdutch-debate-corpus\\ded21_audio.wav\t1\t521.0\t28.0\t<NA>\t<NA>\tKlaver\t<NA>\t\n",
      "SPEAKER\tdutch-debate-corpus\\ded21_audio.wav\t1\t572.0\t43.0\t<NA>\t<NA>\tKaag\t<NA>\t\n",
      "SPEAKER\tdutch-debate-corpus\\ded21_audio.wav\t1\t638.0\t75.0\t<NA>\t<NA>\tRutte\t<NA>\t\n",
      "SPEAKER\tdutch-debate-corpus\\ded21_audio.wav\t1\t715.0\t48.0\t<NA>\t<NA>\tWilders\t<NA>\t\n",
      "SPEAKER\tdutch-debate-corpus\\ded21_audio.wav\t1\t769.0\t44.0\t<NA>\t<NA>\tHoekstra\t<NA>\t\n",
      "SPEAKER\tdutch-debate-corpus\\ded21_audio.wav\t1\t819.0\t61.0\t<NA>\t<NA>\tMarijnissen\t<NA>\t\n",
      "SPEAKER\tdutch-debate-corpus\\ded21_audio.wav\t1\t908.0\t79.0\t<NA>\t<NA>\tKlaver\t<NA>\t\n",
      "SPEAKER\tdutch-debate-corpus\\ded21_audio.wav\t1\t995.0\t19.0\t<NA>\t<NA>\tWilders\t<NA>\t\n",
      "SPEAKER\tdutch-debate-corpus\\ded21_audio.wav\t1\t1018.0\t35.0\t<NA>\t<NA>\tKaag\t<NA>\t\n",
      "SPEAKER\tdutch-debate-corpus\\ded21_audio.wav\t1\t1055.0\t4.0\t<NA>\t<NA>\tHoekstra\t<NA>\t\n",
      "SPEAKER\tdutch-debate-corpus\\ded21_audio.wav\t1\t1185.0\t62.0\t<NA>\t<NA>\tKaag\t<NA>\t\n",
      "SPEAKER\tdutch-debate-corpus\\ded21_audio.wav\t1\t1275.0\t11.0\t<NA>\t<NA>\tKaag\t<NA>\t\n",
      "SPEAKER\tdutch-debate-corpus\\ded21_audio.wav\t1\t1298.0\t2.0\t<NA>\t<NA>\tKaag\t<NA>\t\n",
      "SPEAKER\tdutch-debate-corpus\\ded21_audio.wav\t1\t1335.0\t31.0\t<NA>\t<NA>\tKaag\t<NA>\t\n",
      "SPEAKER\tdutch-debate-corpus\\ded21_audio.wav\t1\t1560.0\t4.0\t<NA>\t<NA>\tHoekstra\t<NA>\t\n",
      "SPEAKER\tdutch-debate-corpus\\ded21_audio.wav\t1\t1577.0\t43.0\t<NA>\t<NA>\tHoekstra\t<NA>\t\n",
      "SPEAKER\tdutch-debate-corpus\\ded21_audio.wav\t1\t1634.0\t32.0\t<NA>\t<NA>\tHoekstra\t<NA>\t\n",
      "SPEAKER\tdutch-debate-corpus\\ded21_audio.wav\t1\t1684.0\t14.0\t<NA>\t<NA>\tHoekstra\t<NA>\t\n",
      "SPEAKER\tdutch-debate-corpus\\ded21_audio.wav\t1\t1703.0\t18.0\t<NA>\t<NA>\tHoekstra\t<NA>\t\n",
      "SPEAKER\tdutch-debate-corpus\\ded21_audio.wav\t1\t1736.0\t29.0\t<NA>\t<NA>\tHoekstra\t<NA>\t\n",
      "SPEAKER\tdutch-debate-corpus\\ded21_audio.wav\t1\t1891.0\t43.0\t<NA>\t<NA>\tMarijnissen\t<NA>\t\n",
      "SPEAKER\tdutch-debate-corpus\\ded21_audio.wav\t1\t1935.0\t37.0\t<NA>\t<NA>\tRutte\t<NA>\t\n",
      "SPEAKER\tdutch-debate-corpus\\ded21_audio.wav\t1\t1976.0\t35.0\t<NA>\t<NA>\tKaag\t<NA>\t\n",
      "SPEAKER\tdutch-debate-corpus\\ded21_audio.wav\t1\t2014.0\t27.0\t<NA>\t<NA>\tWilders\t<NA>\t\n",
      "SPEAKER\tdutch-debate-corpus\\ded21_audio.wav\t1\t2054.0\t29.0\t<NA>\t<NA>\tKlaver\t<NA>\t\n",
      "SPEAKER\tdutch-debate-corpus\\ded21_audio.wav\t1\t2087.0\t28.0\t<NA>\t<NA>\tHoekstra\t<NA>\t\n",
      "SPEAKER\tdutch-debate-corpus\\ded21_audio.wav\t1\t2128.0\t52.0\t<NA>\t<NA>\tRutte\t<NA>\t\n",
      "SPEAKER\tdutch-debate-corpus\\ded21_audio.wav\t1\t2181.0\t41.0\t<NA>\t<NA>\tWilders\t<NA>\t\n",
      "SPEAKER\tdutch-debate-corpus\\ded21_audio.wav\t1\t2251.0\t59.0\t<NA>\t<NA>\tKaag\t<NA>\t\n",
      "SPEAKER\tdutch-debate-corpus\\ded21_audio.wav\t1\t2302.0\t49.0\t<NA>\t<NA>\tWilders\t<NA>\t\n",
      "SPEAKER\tdutch-debate-corpus\\ded21_audio.wav\t1\t2365.0\t38.0\t<NA>\t<NA>\tHoekstra\t<NA>\t\n",
      "SPEAKER\tdutch-debate-corpus\\ded21_audio.wav\t1\t2432.0\t57.0\t<NA>\t<NA>\tKlaver\t<NA>\t\n",
      "SPEAKER\tdutch-debate-corpus\\ded21_audio.wav\t1\t2492.0\t55.0\t<NA>\t<NA>\tMarijnissen\t<NA>\t\n",
      "SPEAKER\tdutch-debate-corpus\\ded21_audio.wav\t1\t2554.0\t36.0\t<NA>\t<NA>\tRutte\t<NA>\t\n",
      "SPEAKER\tdutch-debate-corpus\\ded21_audio.wav\t1\t2693.0\t63.0\t<NA>\t<NA>\tRutte\t<NA>\t\n",
      "SPEAKER\tdutch-debate-corpus\\ded21_audio.wav\t1\t2776.0\t31.0\t<NA>\t<NA>\tRutte\t<NA>\t\n",
      "SPEAKER\tdutch-debate-corpus\\ded21_audio.wav\t1\t2830.0\t25.0\t<NA>\t<NA>\tRutte\t<NA>\t\n",
      "SPEAKER\tdutch-debate-corpus\\ded21_audio.wav\t1\t2878.0\t4.0\t<NA>\t<NA>\tRutte\t<NA>\t\n",
      "SPEAKER\tdutch-debate-corpus\\ded21_audio.wav\t1\t2888.0\t9.0\t<NA>\t<NA>\tRutte\t<NA>\t\n",
      "SPEAKER\tdutch-debate-corpus\\ded21_audio.wav\t1\t3051.0\t29.0\t<NA>\t<NA>\tKlaver\t<NA>\t\n",
      "SPEAKER\tdutch-debate-corpus\\ded21_audio.wav\t1\t3082.0\t35.0\t<NA>\t<NA>\tWilders\t<NA>\t\n",
      "SPEAKER\tdutch-debate-corpus\\ded21_audio.wav\t1\t3120.0\t28.0\t<NA>\t<NA>\tKaag\t<NA>\t\n",
      "SPEAKER\tdutch-debate-corpus\\ded21_audio.wav\t1\t3154.0\t25.0\t<NA>\t<NA>\tHoekstra\t<NA>\t\n",
      "SPEAKER\tdutch-debate-corpus\\ded21_audio.wav\t1\t3183.0\t35.0\t<NA>\t<NA>\tMarijnissen\t<NA>\t\n",
      "SPEAKER\tdutch-debate-corpus\\ded21_audio.wav\t1\t3220.0\t18.0\t<NA>\t<NA>\tRutte\t<NA>\t\n",
      "SPEAKER\tdutch-debate-corpus\\ded21_audio.wav\t1\t3250.0\t38.0\t<NA>\t<NA>\tWilders\t<NA>\t\n",
      "SPEAKER\tdutch-debate-corpus\\ded21_audio.wav\t1\t3290.0\t42.0\t<NA>\t<NA>\tMarijnissen\t<NA>\t\n",
      "SPEAKER\tdutch-debate-corpus\\ded21_audio.wav\t1\t3332.0\t62.0\t<NA>\t<NA>\tRutte\t<NA>\t\n",
      "SPEAKER\tdutch-debate-corpus\\ded21_audio.wav\t1\t3395.0\t44.0\t<NA>\t<NA>\tKlaver\t<NA>\t\n",
      "SPEAKER\tdutch-debate-corpus\\ded21_audio.wav\t1\t3439.0\t52.0\t<NA>\t<NA>\tRutte\t<NA>\t\n",
      "SPEAKER\tdutch-debate-corpus\\ded21_audio.wav\t1\t3492.0\t39.0\t<NA>\t<NA>\tKaag\t<NA>\t\n",
      "SPEAKER\tdutch-debate-corpus\\ded21_audio.wav\t1\t3538.0\t26.0\t<NA>\t<NA>\tRutte\t<NA>\t\n",
      "SPEAKER\tdutch-debate-corpus\\ded21_audio.wav\t1\t3566.0\t47.0\t<NA>\t<NA>\tHoekstra\t<NA>\t\n",
      "SPEAKER\tdutch-debate-corpus\\ded21_audio.wav\t1\t3620.0\t40.0\t<NA>\t<NA>\tKlaver\t<NA>\t\n",
      "SPEAKER\tdutch-debate-corpus\\ded21_audio.wav\t1\t3673.0\t17.0\t<NA>\t<NA>\tRutte\t<NA>\t\n",
      "SPEAKER\tdutch-debate-corpus\\ded21_audio.wav\t1\t3691.0\t22.0\t<NA>\t<NA>\tHoekstra\t<NA>\t\n",
      "SPEAKER\tdutch-debate-corpus\\ded21_audio.wav\t1\t3842.0\t32.0\t<NA>\t<NA>\tWilders\t<NA>\t\n",
      "SPEAKER\tdutch-debate-corpus\\ded21_audio.wav\t1\t3919.0\t134.0\t<NA>\t<NA>\tWilders\t<NA>\t\n",
      "SPEAKER\tdutch-debate-corpus\\ded21_audio.wav\t1\t4143.0\t19.0\t<NA>\t<NA>\tRutte\t<NA>\t\n",
      "SPEAKER\tdutch-debate-corpus\\ded21_audio.wav\t1\t4164.0\t14.0\t<NA>\t<NA>\tKaag\t<NA>\t\n",
      "SPEAKER\tdutch-debate-corpus\\ded21_audio.wav\t1\t4181.0\t32.0\t<NA>\t<NA>\tWilders\t<NA>\t\n",
      "SPEAKER\tdutch-debate-corpus\\ded21_audio.wav\t1\t4215.0\t38.0\t<NA>\t<NA>\tMarijnissen\t<NA>\t\n",
      "SPEAKER\tdutch-debate-corpus\\ded21_audio.wav\t1\t4255.0\t33.0\t<NA>\t<NA>\tKlaver\t<NA>\t\n",
      "SPEAKER\tdutch-debate-corpus\\ded21_audio.wav\t1\t4290.0\t38.0\t<NA>\t<NA>\tHoekstra\t<NA>\t\n",
      "SPEAKER\tdutch-debate-corpus\\ded21_audio.wav\t1\t4331.0\t23.0\t<NA>\t<NA>\tRutte\t<NA>\t\n",
      "SPEAKER\tdutch-debate-corpus\\ded21_audio.wav\t1\t4366.0\t22.0\t<NA>\t<NA>\tRutte\t<NA>\t\n",
      "SPEAKER\tdutch-debate-corpus\\ded21_audio.wav\t1\t4397.0\t25.0\t<NA>\t<NA>\tHoekstra\t<NA>\t\n",
      "SPEAKER\tdutch-debate-corpus\\ded21_audio.wav\t1\t4451.0\t64.0\t<NA>\t<NA>\tMarijnissen\t<NA>\t\n",
      "SPEAKER\tdutch-debate-corpus\\ded21_audio.wav\t1\t4534.0\t43.0\t<NA>\t<NA>\tWilders\t<NA>\t\n",
      "SPEAKER\tdutch-debate-corpus\\ded21_audio.wav\t1\t4581.0\t43.0\t<NA>\t<NA>\tKaag\t<NA>\t\n",
      "SPEAKER\tdutch-debate-corpus\\ded21_audio.wav\t1\t4626.0\t27.0\t<NA>\t<NA>\tKlaver\t<NA>\t\n",
      "SPEAKER\tdutch-debate-corpus\\ded21_audio.wav\t1\t4654.0\t43.0\t<NA>\t<NA>\tRutte\t<NA>\t\n",
      "SPEAKER\tdutch-debate-corpus\\ded21_audio.wav\t1\t4704.0\t50.0\t<NA>\t<NA>\tHoekstra\t<NA>\t\n",
      "SPEAKER\tdutch-debate-corpus\\ded21_audio.wav\t1\t4823.0\t16.0\t<NA>\t<NA>\tBurger\t<NA>\t\n",
      "SPEAKER\tdutch-debate-corpus\\ded21_audio.wav\t1\t4840.0\t6.0\t<NA>\t<NA>\tKlaver\t<NA>\t\n",
      "SPEAKER\tdutch-debate-corpus\\ded21_audio.wav\t1\t4847.0\t18.0\t<NA>\t<NA>\tBurger\t<NA>\t\n",
      "SPEAKER\tdutch-debate-corpus\\ded21_audio.wav\t1\t4866.0\t3.0\t<NA>\t<NA>\tKlaver\t<NA>\t\n",
      "SPEAKER\tdutch-debate-corpus\\ded21_audio.wav\t1\t4870.0\t8.0\t<NA>\t<NA>\tBurger\t<NA>\t\n",
      "SPEAKER\tdutch-debate-corpus\\ded21_audio.wav\t1\t4886.0\t34.0\t<NA>\t<NA>\tKlaver\t<NA>\t\n",
      "SPEAKER\tdutch-debate-corpus\\ded21_audio.wav\t1\t4920.0\t14.0\t<NA>\t<NA>\tBurger\t<NA>\t\n",
      "SPEAKER\tdutch-debate-corpus\\ded21_audio.wav\t1\t4935.0\t23.0\t<NA>\t<NA>\tKlaver\t<NA>\t\n",
      "SPEAKER\tdutch-debate-corpus\\ded21_audio.wav\t1\t4961.0\t12.0\t<NA>\t<NA>\tBurger\t<NA>\t\n",
      "SPEAKER\tdutch-debate-corpus\\ded21_audio.wav\t1\t4974.0\t17.0\t<NA>\t<NA>\tKlaver\t<NA>\t\n",
      "SPEAKER\tdutch-debate-corpus\\ded21_audio.wav\t1\t4999.0\t19.0\t<NA>\t<NA>\tKlaver\t<NA>\t\n",
      "SPEAKER\tdutch-debate-corpus\\ded21_audio.wav\t1\t5147.0\t27.0\t<NA>\t<NA>\tBurger\t<NA>\t\n",
      "SPEAKER\tdutch-debate-corpus\\ded21_audio.wav\t1\t5175.0\t56.0\t<NA>\t<NA>\tMarijnissen\t<NA>\t\n",
      "SPEAKER\tdutch-debate-corpus\\ded21_audio.wav\t1\t5232.0\t26.0\t<NA>\t<NA>\tBurger\t<NA>\t\n",
      "SPEAKER\tdutch-debate-corpus\\ded21_audio.wav\t1\t5259.0\t52.0\t<NA>\t<NA>\tMarijnissen\t<NA>\t\n",
      "SPEAKER\tdutch-debate-corpus\\ded21_audio.wav\t1\t5331.0\t42.0\t<NA>\t<NA>\tMarijnissen\t<NA>\t\n",
      "SPEAKER\tdutch-debate-corpus\\ded21_audio.wav\t1\t5378.0\t26.0\t<NA>\t<NA>\tBurger\t<NA>\t\n",
      "SPEAKER\tdutch-debate-corpus\\ded21_audio.wav\t1\t5503.0\t31.0\t<NA>\t<NA>\tHoekstra\t<NA>\t\n",
      "SPEAKER\tdutch-debate-corpus\\ded21_audio.wav\t1\t5538.0\t39.0\t<NA>\t<NA>\tKaag\t<NA>\t\n",
      "SPEAKER\tdutch-debate-corpus\\ded21_audio.wav\t1\t5581.0\t38.0\t<NA>\t<NA>\tWilders\t<NA>\t\n",
      "SPEAKER\tdutch-debate-corpus\\ded21_audio.wav\t1\t5620.0\t40.0\t<NA>\t<NA>\tMarijnissen\t<NA>\t\n",
      "SPEAKER\tdutch-debate-corpus\\ded21_audio.wav\t1\t5668.0\t28.0\t<NA>\t<NA>\tRutte\t<NA>\t\n",
      "SPEAKER\tdutch-debate-corpus\\ded21_audio.wav\t1\t5698.0\t60.0\t<NA>\t<NA>\tKlaver\t<NA>\t\n",
      "SPEAKER\tdutch-debate-corpus\\ded21_audio.wav\t1\t5763.0\t62.0\t<NA>\t<NA>\tKaag\t<NA>\t\n",
      "SPEAKER\tdutch-debate-corpus\\ded21_audio.wav\t1\t5840.0\t29.0\t<NA>\t<NA>\tHoekstra\t<NA>\t\n",
      "SPEAKER\tdutch-debate-corpus\\ded21_audio.wav\t1\t5874.0\t53.0\t<NA>\t<NA>\tWilders\t<NA>\t\n",
      "SPEAKER\tdutch-debate-corpus\\ded21_audio.wav\t1\t5930.0\t60.0\t<NA>\t<NA>\tRutte\t<NA>\t\n",
      "SPEAKER\tdutch-debate-corpus\\ded21_audio.wav\t1\t5996.0\t86.0\t<NA>\t<NA>\tMarijnissen\t<NA>\t\n",
      "SPEAKER\tdutch-debate-corpus\\ded21_audio.wav\t1\t6084.0\t49.0\t<NA>\t<NA>\tKlaver\t<NA>\t\n",
      "SPEAKER\tdutch-debate-corpus\\ded21_audio.wav\t1\t6137.0\t26.0\t<NA>\t<NA>\tHoekstra\t<NA>\t\n",
      "SPEAKER\tdutch-debate-corpus\\ded21_audio.wav\t1\t6169.0\t23.0\t<NA>\t<NA>\tKaag\t<NA>\t\n",
      "\n"
     ]
    }
   ],
   "source": [
    "print(rttm_seq)\n"
   ]
  },
  {
   "cell_type": "code",
   "execution_count": 6,
   "metadata": {},
   "outputs": [],
   "source": [
    "duration = rttm_seq.get_duration()\n",
    "split_time = rttm_seq.sequence[np.argmin([np.abs(duration/NUM_PARTS - seg.tbeg) for seg in rttm_seq.sequence])].tbeg"
   ]
  },
  {
   "cell_type": "code",
   "execution_count": 7,
   "metadata": {},
   "outputs": [],
   "source": [
    "rttm_sub_seqs = rttm_seq.split([split_time])"
   ]
  },
  {
   "cell_type": "markdown",
   "metadata": {},
   "source": [
    "The audio signal is separated from the video file and saved."
   ]
  },
  {
   "cell_type": "code",
   "execution_count": 8,
   "metadata": {},
   "outputs": [],
   "source": [
    "def convert_video_to_audio(video_file, audio_file, split_time, sample_rate=16000):\n",
    "    with VideoFileClip(video_file) as clip:\n",
    "        duration = clip.duration\n",
    "        for i, end in enumerate(split_time + [duration]):\n",
    "            filename = f\"_{i}.\".join(audio_file.split(\".\"))\n",
    "            if i == 0:\n",
    "                start = 0.0\n",
    "            else:\n",
    "                start = split_time[i-1]\n",
    "            subclip = clip.subclip(start, end)\n",
    "            print(filename)\n",
    "            subclip.audio.write_audiofile(filename, fps=sample_rate, ffmpeg_params=[\"-ac\", \"1\"]) # convert to mono\n",
    "\n",
    "    print(f\"Converted video file {video_file} to audio file {filename}\")\n"
   ]
  },
  {
   "cell_type": "code",
   "execution_count": 9,
   "metadata": {},
   "outputs": [
    {
     "name": "stdout",
     "output_type": "stream",
     "text": [
      "dutch-debate-corpus\\ded21_audio_0.wav\n",
      "MoviePy - Writing audio in dutch-debate-corpus\\ded21_audio_0.wav\n"
     ]
    },
    {
     "name": "stderr",
     "output_type": "stream",
     "text": [
      "                                                                        \r"
     ]
    },
    {
     "name": "stdout",
     "output_type": "stream",
     "text": [
      "MoviePy - Done.\n",
      "dutch-debate-corpus\\ded21_audio_1.wav\n",
      "MoviePy - Writing audio in dutch-debate-corpus\\ded21_audio_1.wav\n"
     ]
    },
    {
     "name": "stderr",
     "output_type": "stream",
     "text": [
      "                                                                        \r"
     ]
    },
    {
     "name": "stdout",
     "output_type": "stream",
     "text": [
      "MoviePy - Done.\n",
      "Converted video file dutch-debate-corpus\\ded21_video.mp4 to audio file dutch-debate-corpus\\ded21_audio_1.wav\n"
     ]
    }
   ],
   "source": [
    "convert_video_to_audio(os.path.join(DATA_DIR, \"ded21_video.mp4\"),\n",
    "                       os.path.join(DATA_DIR, \"ded21_audio.wav\"),\n",
    "                       [split_time])\n"
   ]
  },
  {
   "cell_type": "markdown",
   "metadata": {},
   "source": [
    "The labeled segments are extracted from the audio signal. Instead of cutting them together right after each other, a short white noise segment is inserted in between the segments to simulated non-speech segments. The white noise segments have a random length between 1s and 5s. A new RTTM file is created that contains the reference for the new audio signal."
   ]
  },
  {
   "cell_type": "code",
   "execution_count": 10,
   "metadata": {},
   "outputs": [],
   "source": [
    "def generate_white_noise(size, amplitude):\n",
    "    return amplitude*np.random.normal(0.0, 1.0, size=size).astype(np.int16)\n"
   ]
  },
  {
   "cell_type": "code",
   "execution_count": 13,
   "metadata": {},
   "outputs": [],
   "source": [
    "def segment_audio(audio_file, rttm_seq):\n",
    "    sample_rate, signal = wavfile.read(audio_file)\n",
    "    amplitude = np.iinfo(np.int16).max\n",
    "    new_signal = np.zeros((0), dtype=np.int16)\n",
    "    new_rttm_seq = deepcopy(rttm_seq)\n",
    "\n",
    "    for i, seg in enumerate(rttm_seq.sequence):\n",
    "        start_frame = int(seg.tbeg*sample_rate)\n",
    "        end_frame = int((seg.tbeg+seg.tdur)*sample_rate)\n",
    "        noise_dur = np.random.choice(5)+1\n",
    "        new_signal = np.append(new_signal, generate_white_noise(\n",
    "            (int(sample_rate*noise_dur)), amplitude), axis=0)\n",
    "        new_signal = np.append(\n",
    "            new_signal, signal[start_frame:end_frame], axis=0)\n",
    "        new_seg = new_rttm_seq.sequence[i]\n",
    "\n",
    "        if i == 0:\n",
    "            new_seg.tbeg = noise_dur\n",
    "        else:\n",
    "            new_prev_seg = new_rttm_seq.sequence[i-1]\n",
    "            new_seg.tbeg = new_prev_seg.tbeg+new_prev_seg.tdur + noise_dur\n",
    "\n",
    "    wavfile.write(audio_file, sample_rate, new_signal)\n",
    "\n",
    "    return new_rttm_seq\n"
   ]
  },
  {
   "cell_type": "code",
   "execution_count": 14,
   "metadata": {},
   "outputs": [],
   "source": [
    "np.random.seed(10)\n",
    "\n",
    "new_rttm_sub_seqs = [segment_audio(os.path.join(\n",
    "    DATA_DIR, f\"ded21_audio_{i}.wav\"), seq) for i, seq in enumerate(rttm_sub_seqs)]\n"
   ]
  },
  {
   "cell_type": "code",
   "execution_count": 15,
   "metadata": {},
   "outputs": [],
   "source": [
    "for i, seq in enumerate(new_rttm_sub_seqs):\n",
    "    seq_copy = deepcopy(seq)\n",
    "    for seg in seq_copy.sequence:\n",
    "        seg.file = os.path.join(DATA_DIR, f\"ref_ded21_audio_{i}.wav\")\n",
    "    seq_copy.write(os.path.join(DATA_DIR, f\"ref_ded21_audio_{i}.rttm\"))\n"
   ]
  },
  {
   "cell_type": "code",
   "execution_count": 16,
   "metadata": {},
   "outputs": [
    {
     "data": {
      "text/plain": [
       "[]"
      ]
     },
     "execution_count": 16,
     "metadata": {},
     "output_type": "execute_result"
    },
    {
     "data": {
      "image/png": "[encoded data removed]",
      "text/plain": [
       "<Figure size 432x288 with 1 Axes>"
      ]
     },
     "metadata": {
      "needs_background": "light"
     },
     "output_type": "display_data"
    }
   ],
   "source": [
    "durations = [seg.tdur for seg in rttm_seq.sequence]\n",
    "\n",
    "plot = sns.histplot(data=durations)\n",
    "plot.set(xlabel=\"Segment duration\")\n",
    "plot.plot()\n"
   ]
  },
  {
   "cell_type": "code",
   "execution_count": 17,
   "metadata": {},
   "outputs": [
    {
     "data": {
      "text/plain": [
       "[]"
      ]
     },
     "execution_count": 17,
     "metadata": {},
     "output_type": "execute_result"
    },
    {
     "data": {
      "image/png": "[encoded data removed]",
      "text/plain": [
       "<Figure size 432x288 with 1 Axes>"
      ]
     },
     "metadata": {
      "needs_background": "light"
     },
     "output_type": "display_data"
    }
   ],
   "source": [
    "speakers = [seg.name for seg in rttm_seq.sequence]\n",
    "\n",
    "plot = sns.histplot(data=speakers)\n",
    "plot.set(xlabel=\"Speaker name\")\n",
    "plot.plot()\n"
   ]
  },
  {
   "cell_type": "code",
   "execution_count": 18,
   "metadata": {},
   "outputs": [
    {
     "data": {
      "text/plain": [
       "[]"
      ]
     },
     "execution_count": 18,
     "metadata": {},
     "output_type": "execute_result"
    },
    {
     "data": {
      "image/png": "[encoded data removed]",
      "text/plain": [
       "<Figure size 432x288 with 1 Axes>"
      ]
     },
     "metadata": {
      "needs_background": "light"
     },
     "output_type": "display_data"
    }
   ],
   "source": [
    "speaker_time = []\n",
    "\n",
    "for spk in set(speakers):\n",
    "    speaker_time.append(\n",
    "        sum([dur for i, dur in enumerate(durations) if speakers[i] == spk])/60.0)\n",
    "\n",
    "plot = sns.barplot(data={\"time\": speaker_time, \"speaker\": list(\n",
    "    set(speakers))}, x=\"speaker\", y=\"time\")\n",
    "plot.set(xlabel=\"Speaker name\", ylabel=\"Speech time (min)\")\n",
    "plot.plot()\n"
   ]
  }
 ],
 "metadata": {
  "interpreter": {
   "hash": "b6f083d5ac60cf7759826377c3d8f491f9a0109c460299bd7207c8484c8eacf0"
  },
  "kernelspec": {
   "display_name": "Python 3.9.7 ('mexca-sd-experiment': venv)",
   "language": "python",
   "name": "python3"
  },
  "language_info": {
   "codemirror_mode": {
    "name": "ipython",
    "version": 3
   },
   "file_extension": ".py",
   "mimetype": "text/x-python",
   "name": "python",
   "nbconvert_exporter": "python",
   "pygments_lexer": "ipython3",
   "version": "3.9.7"
  },
  "orig_nbformat": 4
 },
 "nbformat": 4,
 "nbformat_minor": 2
}
