{
 "cells": [
  {
   "cell_type": "markdown",
   "metadata": {},
   "source": [
    "# Explore AMI corpus for speaker diarization\n",
    "\n",
    "In this notebook, the characteristics of the [AMI](https://groups.inf.ed.ac.uk/ami/corpus/overview.shtml) corpus will be analyzed to see whether it is adequate for comparing different speaker diarization [pipelines](https://hackmd.io/xr3m0hiWRLeh9TzYlMNAeA). The comparison requires the corpus to have many segments of speech and non-speech with differing lengths. The speech segments should be distributed equally across speakers. The corpus includes four different speakers per file (differing across files)."
   ]
  },
  {
   "cell_type": "code",
   "execution_count": 14,
   "metadata": {},
   "outputs": [],
   "source": [
    "from datasets import load_dataset\n",
    "import numpy as np\n",
    "import pandas as pd\n",
    "import matplotlib.pyplot as plt"
   ]
  },
  {
   "cell_type": "code",
   "execution_count": 2,
   "metadata": {},
   "outputs": [
    {
     "name": "stderr",
     "output_type": "stream",
     "text": [
      "Reusing dataset ami (C:\\Users\\MalteLuken\\.cache\\huggingface\\datasets\\ami\\microphone-single\\1.6.2\\2accdf810f7c0585f78f4bcfa47684fbb980e35d29ecf126e6906dbecb872d9e)\n",
      "100%|██████████| 1/1 [00:00<00:00, 250.45it/s]\n"
     ]
    }
   ],
   "source": [
    "ami = load_dataset(\"ami\", \"microphone-single\", split=[\"test\"])[0]"
   ]
  },
  {
   "cell_type": "code",
   "execution_count": 3,
   "metadata": {},
   "outputs": [],
   "source": [
    "def get_sample_length(sample):\n",
    "    audio = sample[\"audio\"]\n",
    "    return audio[\"array\"].shape[0]/audio[\"sampling_rate\"]"
   ]
  },
  {
   "cell_type": "code",
   "execution_count": 4,
   "metadata": {},
   "outputs": [],
   "source": [
    "def get_nr_segments(sample):\n",
    "    return len(sample[\"segment_ids\"]) + 1"
   ]
  },
  {
   "cell_type": "code",
   "execution_count": 5,
   "metadata": {},
   "outputs": [],
   "source": [
    "def get_non_speech_ratio(sample):\n",
    "    inter_segment_lengths = []\n",
    "    for i, _ in enumerate(sample[\"segment_ids\"]):\n",
    "        if i < len(sample[\"segment_ids\"])-1 and sample[\"segment_start_times\"][i+1]>=sample[\"segment_end_times\"][i]:\n",
    "            inter_segment_lengths.append(sample[\"segment_start_times\"][i+1]-sample[\"segment_end_times\"][i])\n",
    "    total_length = np.sum(inter_segment_lengths)\n",
    "    non_speech_ratio = total_length/get_sample_length(sample)\n",
    "    return non_speech_ratio"
   ]
  },
  {
   "cell_type": "code",
   "execution_count": 6,
   "metadata": {},
   "outputs": [],
   "source": [
    "def get_segment_lengths(sample):\n",
    "    return np.array(sample[\"segment_end_times\"]) - np.array(sample[\"segment_start_times\"])"
   ]
  },
  {
   "cell_type": "code",
   "execution_count": 7,
   "metadata": {},
   "outputs": [],
   "source": [
    "def get_segment_stats(sample):\n",
    "    segment_lengths = get_segment_lengths(sample)\n",
    "    return round(np.mean(segment_lengths), 2), round(np.std(segment_lengths), 2), round(np.min(segment_lengths), 2), round(np.max(segment_lengths), 2)"
   ]
  },
  {
   "cell_type": "code",
   "execution_count": 8,
   "metadata": {},
   "outputs": [],
   "source": [
    "def get_equal_speakers_index(sample):\n",
    "    spks = list(set(sample[\"segment_speakers\"]))\n",
    "    prob = np.array([sample[\"segment_speakers\"].count(spk) for spk in spks])/get_nr_segments(sample)\n",
    "    sh_index = -np.sum(prob*np.log(prob))\n",
    "    rndm = np.array([0.25, 0.25, 0.25, 0.25])\n",
    "    return sh_index/-np.sum(rndm*np.log(rndm))"
   ]
  },
  {
   "cell_type": "code",
   "execution_count": 9,
   "metadata": {},
   "outputs": [],
   "source": [
    "def get_equal_speech_time_index(sample):\n",
    "    segment_lengths = get_segment_lengths(sample)\n",
    "    spks = list(set(sample[\"segment_speakers\"]))\n",
    "    spk_times = []\n",
    "    for spk in spks:\n",
    "        spk_times.append(np.sum([segment_lengths[i] for i, ref_spk in enumerate(sample[\"segment_speakers\"]) if ref_spk == spk]))\n",
    "    \n",
    "    sample_length = get_sample_length(sample)\n",
    "    rel_spk_times = np.array(spk_times)/sample_length\n",
    "    sh_index = -np.sum(rel_spk_times*np.log(rel_spk_times))\n",
    "    rndm = np.array([0.25, 0.25, 0.25, 0.25])\n",
    "    return sh_index/-np.sum(rndm*np.log(rndm))"
   ]
  },
  {
   "cell_type": "code",
   "execution_count": 10,
   "metadata": {},
   "outputs": [],
   "source": [
    "df_dict = {'sample_length_min': [], 'nr_segments': [], 'seg_length_secs_M_SD_Min_Max': [], 'non_speech_ratio': [], 'equal_speakers_index': [], 'equal_speech_time_index': []}\n",
    "\n",
    "for row in ami:\n",
    "    df_dict['sample_length_min'].append(get_sample_length(row)/60)\n",
    "    df_dict['nr_segments'].append(get_nr_segments(row))\n",
    "    df_dict['seg_length_secs_M_SD_Min_Max'].append(get_segment_stats(row))\n",
    "    df_dict['non_speech_ratio'].append(get_non_speech_ratio(row))\n",
    "    df_dict['equal_speakers_index'].append(get_equal_speakers_index(row))\n",
    "    df_dict['equal_speech_time_index'].append(get_equal_speech_time_index(row))"
   ]
  },
  {
   "cell_type": "code",
   "execution_count": 11,
   "metadata": {},
   "outputs": [
    {
     "data": {
      "text/html": [
       "<div>\n",
       "<style scoped>\n",
       "    .dataframe tbody tr th:only-of-type {\n",
       "        vertical-align: middle;\n",
       "    }\n",
       "\n",
       "    .dataframe tbody tr th {\n",
       "        vertical-align: top;\n",
       "    }\n",
       "\n",
       "    .dataframe thead th {\n",
       "        text-align: right;\n",
       "    }\n",
       "</style>\n",
       "<table border=\"1\" class=\"dataframe\">\n",
       "  <thead>\n",
       "    <tr style=\"text-align: right;\">\n",
       "      <th></th>\n",
       "      <th>sample_length_min</th>\n",
       "      <th>nr_segments</th>\n",
       "      <th>seg_length_secs_M_SD_Min_Max</th>\n",
       "      <th>non_speech_ratio</th>\n",
       "      <th>equal_speakers_index</th>\n",
       "      <th>equal_speech_time_index</th>\n",
       "    </tr>\n",
       "  </thead>\n",
       "  <tbody>\n",
       "    <tr>\n",
       "      <th>0</th>\n",
       "      <td>17.49</td>\n",
       "      <td>284</td>\n",
       "      <td>(3.72, 5.77, 0.27, 43.44)</td>\n",
       "      <td>0.45</td>\n",
       "      <td>0.97</td>\n",
       "      <td>0.93</td>\n",
       "    </tr>\n",
       "    <tr>\n",
       "      <th>1</th>\n",
       "      <td>39.09</td>\n",
       "      <td>488</td>\n",
       "      <td>(4.94, 8.28, 0.27, 59.36)</td>\n",
       "      <td>0.41</td>\n",
       "      <td>0.99</td>\n",
       "      <td>0.98</td>\n",
       "    </tr>\n",
       "    <tr>\n",
       "      <th>2</th>\n",
       "      <td>38.91</td>\n",
       "      <td>522</td>\n",
       "      <td>(4.68, 7.13, 0.29, 42.93)</td>\n",
       "      <td>0.42</td>\n",
       "      <td>0.99</td>\n",
       "      <td>0.98</td>\n",
       "    </tr>\n",
       "    <tr>\n",
       "      <th>3</th>\n",
       "      <td>37.04</td>\n",
       "      <td>668</td>\n",
       "      <td>(3.39, 5.88, 0.3, 55.06)</td>\n",
       "      <td>0.49</td>\n",
       "      <td>1.00</td>\n",
       "      <td>0.96</td>\n",
       "    </tr>\n",
       "    <tr>\n",
       "      <th>4</th>\n",
       "      <td>13.98</td>\n",
       "      <td>223</td>\n",
       "      <td>(3.48, 4.85, 0.19, 31.58)</td>\n",
       "      <td>0.38</td>\n",
       "      <td>0.97</td>\n",
       "      <td>0.81</td>\n",
       "    </tr>\n",
       "    <tr>\n",
       "      <th>5</th>\n",
       "      <td>34.21</td>\n",
       "      <td>410</td>\n",
       "      <td>(5.07, 10.3, 0.27, 58.61)</td>\n",
       "      <td>0.49</td>\n",
       "      <td>0.99</td>\n",
       "      <td>0.99</td>\n",
       "    </tr>\n",
       "    <tr>\n",
       "      <th>6</th>\n",
       "      <td>30.35</td>\n",
       "      <td>334</td>\n",
       "      <td>(5.05, 10.08, 0.21, 128.4)</td>\n",
       "      <td>0.40</td>\n",
       "      <td>0.98</td>\n",
       "      <td>0.95</td>\n",
       "    </tr>\n",
       "    <tr>\n",
       "      <th>7</th>\n",
       "      <td>32.41</td>\n",
       "      <td>538</td>\n",
       "      <td>(3.52, 5.85, 0.19, 48.68)</td>\n",
       "      <td>0.37</td>\n",
       "      <td>0.99</td>\n",
       "      <td>0.90</td>\n",
       "    </tr>\n",
       "    <tr>\n",
       "      <th>8</th>\n",
       "      <td>25.09</td>\n",
       "      <td>310</td>\n",
       "      <td>(3.91, 7.61, 0.22, 56.22)</td>\n",
       "      <td>0.50</td>\n",
       "      <td>0.93</td>\n",
       "      <td>0.59</td>\n",
       "    </tr>\n",
       "    <tr>\n",
       "      <th>9</th>\n",
       "      <td>36.84</td>\n",
       "      <td>440</td>\n",
       "      <td>(4.58, 5.76, 0.22, 27.58)</td>\n",
       "      <td>0.25</td>\n",
       "      <td>0.91</td>\n",
       "      <td>0.89</td>\n",
       "    </tr>\n",
       "    <tr>\n",
       "      <th>10</th>\n",
       "      <td>42.83</td>\n",
       "      <td>417</td>\n",
       "      <td>(5.02, 6.21, 0.54, 26.63)</td>\n",
       "      <td>0.26</td>\n",
       "      <td>0.94</td>\n",
       "      <td>0.89</td>\n",
       "    </tr>\n",
       "    <tr>\n",
       "      <th>11</th>\n",
       "      <td>43.64</td>\n",
       "      <td>772</td>\n",
       "      <td>(3.11, 4.03, 0.24, 28.3)</td>\n",
       "      <td>0.42</td>\n",
       "      <td>0.97</td>\n",
       "      <td>0.88</td>\n",
       "    </tr>\n",
       "    <tr>\n",
       "      <th>12</th>\n",
       "      <td>35.71</td>\n",
       "      <td>826</td>\n",
       "      <td>(3.53, 4.41, 0.24, 36.69)</td>\n",
       "      <td>0.40</td>\n",
       "      <td>0.99</td>\n",
       "      <td>1.04</td>\n",
       "    </tr>\n",
       "    <tr>\n",
       "      <th>13</th>\n",
       "      <td>29.78</td>\n",
       "      <td>551</td>\n",
       "      <td>(3.95, 5.79, 0.26, 39.41)</td>\n",
       "      <td>0.44</td>\n",
       "      <td>0.98</td>\n",
       "      <td>0.99</td>\n",
       "    </tr>\n",
       "    <tr>\n",
       "      <th>14</th>\n",
       "      <td>49.54</td>\n",
       "      <td>678</td>\n",
       "      <td>(5.25, 7.86, 0.17, 62.17)</td>\n",
       "      <td>0.41</td>\n",
       "      <td>0.79</td>\n",
       "      <td>0.79</td>\n",
       "    </tr>\n",
       "    <tr>\n",
       "      <th>15</th>\n",
       "      <td>36.83</td>\n",
       "      <td>802</td>\n",
       "      <td>(3.8, 5.12, 0.19, 49.3)</td>\n",
       "      <td>0.38</td>\n",
       "      <td>0.98</td>\n",
       "      <td>1.03</td>\n",
       "    </tr>\n",
       "  </tbody>\n",
       "</table>\n",
       "</div>"
      ],
      "text/plain": [
       "    sample_length_min  nr_segments seg_length_secs_M_SD_Min_Max  \\\n",
       "0               17.49          284    (3.72, 5.77, 0.27, 43.44)   \n",
       "1               39.09          488    (4.94, 8.28, 0.27, 59.36)   \n",
       "2               38.91          522    (4.68, 7.13, 0.29, 42.93)   \n",
       "3               37.04          668     (3.39, 5.88, 0.3, 55.06)   \n",
       "4               13.98          223    (3.48, 4.85, 0.19, 31.58)   \n",
       "5               34.21          410    (5.07, 10.3, 0.27, 58.61)   \n",
       "6               30.35          334   (5.05, 10.08, 0.21, 128.4)   \n",
       "7               32.41          538    (3.52, 5.85, 0.19, 48.68)   \n",
       "8               25.09          310    (3.91, 7.61, 0.22, 56.22)   \n",
       "9               36.84          440    (4.58, 5.76, 0.22, 27.58)   \n",
       "10              42.83          417    (5.02, 6.21, 0.54, 26.63)   \n",
       "11              43.64          772     (3.11, 4.03, 0.24, 28.3)   \n",
       "12              35.71          826    (3.53, 4.41, 0.24, 36.69)   \n",
       "13              29.78          551    (3.95, 5.79, 0.26, 39.41)   \n",
       "14              49.54          678    (5.25, 7.86, 0.17, 62.17)   \n",
       "15              36.83          802      (3.8, 5.12, 0.19, 49.3)   \n",
       "\n",
       "    non_speech_ratio  equal_speakers_index  equal_speech_time_index  \n",
       "0               0.45                  0.97                     0.93  \n",
       "1               0.41                  0.99                     0.98  \n",
       "2               0.42                  0.99                     0.98  \n",
       "3               0.49                  1.00                     0.96  \n",
       "4               0.38                  0.97                     0.81  \n",
       "5               0.49                  0.99                     0.99  \n",
       "6               0.40                  0.98                     0.95  \n",
       "7               0.37                  0.99                     0.90  \n",
       "8               0.50                  0.93                     0.59  \n",
       "9               0.25                  0.91                     0.89  \n",
       "10              0.26                  0.94                     0.89  \n",
       "11              0.42                  0.97                     0.88  \n",
       "12              0.40                  0.99                     1.04  \n",
       "13              0.44                  0.98                     0.99  \n",
       "14              0.41                  0.79                     0.79  \n",
       "15              0.38                  0.98                     1.03  "
      ]
     },
     "execution_count": 11,
     "metadata": {},
     "output_type": "execute_result"
    }
   ],
   "source": [
    "pd.DataFrame(df_dict).round(2)"
   ]
  },
  {
   "cell_type": "code",
   "execution_count": 12,
   "metadata": {},
   "outputs": [],
   "source": [
    "segment_lengths = []\n",
    "\n",
    "for row in ami:\n",
    "    for seg_len in get_segment_lengths(row):\n",
    "        if seg_len < 60: # Only less than 1 min\n",
    "            segment_lengths.append(seg_len)"
   ]
  },
  {
   "cell_type": "code",
   "execution_count": 13,
   "metadata": {},
   "outputs": [
    {
     "data": {
      "image/png": "[encoded data removed]",
      "text/plain": [
       "<Figure size 432x288 with 1 Axes>"
      ]
     },
     "metadata": {
      "needs_background": "light"
     },
     "output_type": "display_data"
    }
   ],
   "source": [
    "fig, ax = plt.subplots(1, 1)\n",
    "\n",
    "ax.hist(segment_lengths, bins=20)\n",
    "\n",
    "plt.show()"
   ]
  },
  {
   "cell_type": "markdown",
   "metadata": {},
   "source": [
    "The corpus contains multiple files with differing numbers of speech segments. The segments have different lengths ranging from less than a second (probably hard to identify the speaker) to two minutes (easy to identify) of speech. All files contain a sufficient amount of speech and non-speech to test voice activity detection components of the pipelines. The equal speakers index gives the entropy of the multinomial speaker distribution relative to a distribution with all speakers speaking an equal amount of segments. The closer to 1 the index is, the more equally segments are distributed across speakers. This does not take into account the length of the segments, however, a short subset of a segment (5-10 secs) is usually sufficient to identify the speaker. Thus, it is more important to have equally distributed segments rather than equally distributed speaking times. In contrast, the equal speech time index is closer to one if the speakers speak an equal amount of time taken all segments together (it is sometimes larger than 1 because of overlapping segments). Both indices are close to 1 for most files, indicating that the dataset is fit for comparison."
   ]
  }
 ],
 "metadata": {
  "interpreter": {
   "hash": "7347d991c5e2f391a3d7d79e5ee26bb4d126111ca53b3542519de53e7706b949"
  },
  "kernelspec": {
   "display_name": "Python 3.9.7 ('navigating-stories')",
   "language": "python",
   "name": "python3"
  },
  "language_info": {
   "codemirror_mode": {
    "name": "ipython",
    "version": 3
   },
   "file_extension": ".py",
   "mimetype": "text/x-python",
   "name": "python",
   "nbconvert_exporter": "python",
   "pygments_lexer": "ipython3",
   "version": "3.9.7"
  },
  "orig_nbformat": 4
 },
 "nbformat": 4,
 "nbformat_minor": 2
}
