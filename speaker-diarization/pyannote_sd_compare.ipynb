{
 "cells": [
  {
   "cell_type": "markdown",
   "id": "e9eceebf-c70d-446e-bf1d-f5847a479494",
   "metadata": {},
   "source": [
    "### Import and plot pyannote speaker diarization pipeline results"
   ]
  },
  {
   "cell_type": "code",
   "execution_count": null,
   "id": "34250320-9a5b-4481-a29c-93ad1eeb0f05",
   "metadata": {},
   "outputs": [],
   "source": [
    "from rttm import read_rttm\n",
    "from pyannote.core import Annotation, Timeline, Segment\n",
    "from pyannote.metrics.diarization import DiarizationErrorRate, DiarizationCoverage, DiarizationPurity\n",
    "import seaborn as sns\n",
    "import pandas as pd\n",
    "import numpy as np\n",
    "import os"
   ]
  },
  {
   "cell_type": "code",
   "execution_count": 128,
   "id": "ca93683a-4d14-48ef-a4a3-3ce3dcc2ba3e",
   "metadata": {},
   "outputs": [],
   "source": [
    "RESULTS = [\"pyannote\"]\n",
    "FILE_INDICES = list(range(16))"
   ]
  },
  {
   "cell_type": "code",
   "execution_count": 129,
   "id": "eefc545f-2c6c-4091-88a1-6ff999d9ded2",
   "metadata": {},
   "outputs": [],
   "source": [
    "diarization_der = DiarizationErrorRate(collar=0.25)\n",
    "diarization_der_skip = DiarizationErrorRate(collar=0.25, skip_overlap=True)\n",
    "diarization_coverage = DiarizationCoverage(collar=0.25)\n",
    "diarization_purity = DiarizationPurity(collar=0.25)\n"
   ]
  },
  {
   "cell_type": "code",
   "execution_count": 130,
   "id": "3119dcd3-7f17-4072-b17f-19a411849759",
   "metadata": {},
   "outputs": [],
   "source": [
    "def convert_rttm_annotation(rttm_seq):\n",
    "    annotation = Annotation()\n",
    "    for seg in rttm_seq.sequence:\n",
    "        annotation[Segment(seg.tbeg, seg.tbeg+seg.tdur)] = seg.name\n",
    "\n",
    "    return annotation"
   ]
  },
  {
   "cell_type": "code",
   "execution_count": 131,
   "id": "5676c114-c3c1-4a51-98b0-e73127c61c58",
   "metadata": {},
   "outputs": [
    {
     "name": "stderr",
     "output_type": "stream",
     "text": [
      "/Users/evaviviani/opt/anaconda3/lib/python3.9/site-packages/pyannote/metrics/utils.py:183: UserWarning: 'uem' was approximated by the union of 'reference' and 'hypothesis' extents.\n",
      "  warnings.warn(\n"
     ]
    }
   ],
   "source": [
    "results_df = {\"metric\": [], \"method\": [], \"value\": []}\n",
    "\n",
    "method_labels = {\n",
    "    \"pyannote\": \"pa\"\n",
    "}\n",
    "\n",
    "for res_dir in RESULTS:\n",
    "    for i in FILE_INDICES:\n",
    "        res_rttm_seq = read_rttm(os.path.join('results',res_dir,f\"{method_labels[res_dir]}_ami_micro_test_sample_{i}.rttm\"))\n",
    "        ref_rttm_seq = read_rttm(os.path.join(\n",
    "            \"results\", \"reference\", f\"ref_ami_micro_test_sample_{i}.rttm\"))\n",
    "        res_annotation = convert_rttm_annotation(res_rttm_seq)\n",
    "        ref_annotation = convert_rttm_annotation(ref_rttm_seq)\n",
    "        der = diarization_der(ref_annotation, res_annotation)\n",
    "        der_skip = diarization_der_skip(ref_annotation, res_annotation)\n",
    "        coverage = diarization_coverage(\n",
    "            ref_annotation, res_annotation)\n",
    "        purity = diarization_purity(\n",
    "            ref_annotation, res_annotation)\n",
    "\n",
    "        results_df[\"metric\"] = results_df[\"metric\"] + \\\n",
    "            [\"der\", \"der_skip\", \"coverage\", \"purity\"]\n",
    "        results_df[\"method\"] = results_df[\"method\"] + \\\n",
    "            [method_labels[res_dir]] *4\n",
    "        results_df[\"value\"] = results_df[\"value\"] + \\\n",
    "            [der, der_skip, coverage, purity]\n",
    "\n",
    "results_df = pd.DataFrame(results_df)"
   ]
  },
  {
   "cell_type": "code",
   "execution_count": 133,
   "id": "4c456c28-e0df-4e40-bea7-875857ad9f50",
   "metadata": {},
   "outputs": [
    {
     "data": {
      "text/html": [
       "<div>\n",
       "<style scoped>\n",
       "    .dataframe tbody tr th:only-of-type {\n",
       "        vertical-align: middle;\n",
       "    }\n",
       "\n",
       "    .dataframe tbody tr th {\n",
       "        vertical-align: top;\n",
       "    }\n",
       "\n",
       "    .dataframe thead th {\n",
       "        text-align: right;\n",
       "    }\n",
       "</style>\n",
       "<table border=\"1\" class=\"dataframe\">\n",
       "  <thead>\n",
       "    <tr style=\"text-align: right;\">\n",
       "      <th></th>\n",
       "      <th>metric</th>\n",
       "      <th>method</th>\n",
       "      <th>value</th>\n",
       "    </tr>\n",
       "  </thead>\n",
       "  <tbody>\n",
       "    <tr>\n",
       "      <th>0</th>\n",
       "      <td>der</td>\n",
       "      <td>pa</td>\n",
       "      <td>0.416895</td>\n",
       "    </tr>\n",
       "    <tr>\n",
       "      <th>1</th>\n",
       "      <td>der_skip</td>\n",
       "      <td>pa</td>\n",
       "      <td>0.310801</td>\n",
       "    </tr>\n",
       "    <tr>\n",
       "      <th>2</th>\n",
       "      <td>coverage</td>\n",
       "      <td>pa</td>\n",
       "      <td>0.679236</td>\n",
       "    </tr>\n",
       "    <tr>\n",
       "      <th>3</th>\n",
       "      <td>purity</td>\n",
       "      <td>pa</td>\n",
       "      <td>0.726872</td>\n",
       "    </tr>\n",
       "    <tr>\n",
       "      <th>4</th>\n",
       "      <td>der</td>\n",
       "      <td>pa</td>\n",
       "      <td>0.266115</td>\n",
       "    </tr>\n",
       "  </tbody>\n",
       "</table>\n",
       "</div>"
      ],
      "text/plain": [
       "     metric method     value\n",
       "0       der     pa  0.416895\n",
       "1  der_skip     pa  0.310801\n",
       "2  coverage     pa  0.679236\n",
       "3    purity     pa  0.726872\n",
       "4       der     pa  0.266115"
      ]
     },
     "execution_count": 133,
     "metadata": {},
     "output_type": "execute_result"
    }
   ],
   "source": [
    "results_df.head()"
   ]
  },
  {
   "cell_type": "code",
   "execution_count": null,
   "id": "4441f648-066f-4886-b25e-e302d74a67b0",
   "metadata": {},
   "outputs": [],
   "source": [
    "results_df.to_csv(\"pyannote_results.csv\", index=False)"
   ]
  },
  {
   "cell_type": "code",
   "execution_count": 134,
   "id": "00bdb023-ce59-48e2-ba97-9f9da11c7d6f",
   "metadata": {},
   "outputs": [],
   "source": [
    "def select_min_max(group):\n",
    "    if pd.DataFrame(group).reset_index()[\"metric\"].apply(lambda x: x in [\"der\", \"der_skip\"]).all():\n",
    "        return np.min(group)\n",
    "    else:\n",
    "        return np.max(group)"
   ]
  },
  {
   "cell_type": "code",
   "execution_count": 135,
   "id": "76e2db1a-9f9f-482c-9fe7-9d3890bd5846",
   "metadata": {},
   "outputs": [],
   "source": [
    "mean_results_df = results_df.groupby(\n",
    "    [\"metric\", \"method\"]).aggregate(np.mean)\n",
    "mean_best_results_dict = mean_results_df.groupby(\n",
    "    [ \"metric\"]).aggregate(select_min_max).to_dict()[\"value\"]"
   ]
  },
  {
   "cell_type": "code",
   "execution_count": 136,
   "id": "328a36fc-baf0-4617-b39b-0267948640c4",
   "metadata": {},
   "outputs": [
    {
     "data": {
      "image/png": "[encoded data removed]",
      "text/plain": [
       "<Figure size 864x216 with 4 Axes>"
      ]
     },
     "metadata": {
      "needs_background": "light"
     },
     "output_type": "display_data"
    }
   ],
   "source": [
    "grid = sns.FacetGrid(data=results_df, col=\"metric\")\n",
    "\n",
    "grid.map(sns.stripplot, \"method\", \"value\", color=\"steelblue\",\n",
    "         order=method_labels.values(), alpha=0.5, jitter=0.25, zorder=1)\n",
    "grid.map(sns.pointplot, \"method\", \"value\", color=\"indianred\", join=False,\n",
    "         order=method_labels.values(), estimator=np.mean, capsize=0.1, zorder=2)\n",
    "\n",
    "grid.set_titles(col_template=\"{col_name}\", row_template=\"{row_name}\")\n",
    "grid.set(ylim=(0.0, 1.0), yticks=np.linspace(0.0, 1.0, 6))\n",
    "\n",
    "best_pos = {\"der\": (0, 0.9), \"der_skip\": (0, 0.9),\n",
    "            \"coverage\": (0, 0.1), \"purity\": (0, 0.1)}\n",
    "\n",
    "for col in grid.axes:\n",
    "    for row in col:\n",
    "        metric = row.title.get_text()\n",
    "        best = round(mean_best_results_dict[metric], 2)\n",
    "        row.annotate(text=best, xy=best_pos[metric],\n",
    "                     ha='center', va='center', color=\"indianred\")\n"
   ]
  }
 ],
 "metadata": {
  "kernelspec": {
   "display_name": "Python 3 (ipykernel)",
   "language": "python",
   "name": "python3"
  },
  "language_info": {
   "codemirror_mode": {
    "name": "ipython",
    "version": 3
   },
   "file_extension": ".py",
   "mimetype": "text/x-python",
   "name": "python",
   "nbconvert_exporter": "python",
   "pygments_lexer": "ipython3",
   "version": "3.9.7"
  }
 },
 "nbformat": 4,
 "nbformat_minor": 5
}
